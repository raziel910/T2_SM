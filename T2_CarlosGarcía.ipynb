{
 "cells": [
  {
   "cell_type": "markdown",
   "metadata": {},
   "source": [
    "# Tarea 2\n",
    "##### Resumen de 2 artículos desde un repositario de GitHub con herramientas de GitKraken"
   ]
  },
  {
   "cell_type": "markdown",
   "metadata": {},
   "source": [
    "## Resumen 1\n",
    "### [Por qué el entrenamiento en Python vale la pena](http://anewdomain.net/spotlight-should-you-invest-in-python-training/)"
   ]
  },
  {
   "cell_type": "markdown",
   "metadata": {},
   "source": [
    "Los lenguajes de programación y los estilos de codificación cambian tan rápidamente que es un trabajo real descubrir cuáles valen su tiempo y dinero.\n",
    "\n",
    "###### Fundamentos de Python\n",
    "Las capacidades de Python van desde propósitos generales hasta funciones de programación de nivel superior, y tiene una amplia variedad de aplicaciones. Python también hace uso de la sintaxis optimizada, que ayuda en gran medida a simplificar el mantenimiento y las actualizaciones y le permite expresar varios conceptos de programación sin la necesidad de codificación adicional.\n",
    "\n",
    "###### Usos de Python\n",
    "Los frameworks de Python como Django y Flask son cada vez más populares para el desarrollo web, especialmente cuando se trata de crear código de fondo que se ejecuta en sus propios servidores en lugar de los dispositivos de los usuarios.\n",
    "\n",
    "Si bien Python puede parecer intimidante para los no iniciados, una vez que haya invertido en la capacitación adecuada, encontrará que será mucho más fácil para su equipo captar estos conceptos y aplicarlos a los proyectos de la compañía."
   ]
  },
  {
   "cell_type": "markdown",
   "metadata": {},
   "source": [
    "![](http://anewdomain.net/wp-content/uploads/2019/01/Screen-Shot-2019-01-03-at-6.37.56-PM.png)"
   ]
  },
  {
   "cell_type": "markdown",
   "metadata": {},
   "source": [
    "## Resumen 2\n",
    "### [Lenguaje de programación del año? Python se destaca en los últimos rankings](https://www.zdnet.com/article/programming-language-of-the-year-python-is-standout-in-latest-rankings/)"
   ]
  },
  {
   "cell_type": "markdown",
   "metadata": {},
   "source": [
    "#### Python consolida su lugar como un lenguaje de programación entre los tres primeros a largo plazo."
   ]
  },
  {
   "cell_type": "markdown",
   "metadata": {},
   "source": [
    "Python ingresó a los tres primeros en el índice de popularidad de Tiobe en septiembre , gracias a su uso en un número creciente de campos. Como señala Tiobe, a menudo es el primer idioma que se enseña en las universidades y es el idioma de referencia para el análisis estadístico, el aprendizaje automático, las secuencias de comandos, la programación web y la informática científica. \n",
    "También es el lenguaje más popular entre los piratas informáticos , gracias a su sintaxis fácil de entender, amplia disponibilidad de tutoriales en línea y una gran cantidad de bibliotecas de software de terceros inofensivas que pueden reutilizarse para uso malicioso.\n",
    "También es el lenguaje más popular entre los **_piratas informáticos_**, gracias a su sintaxis fácil de entender, amplia disponibilidad de tutoriales en línea y una gran cantidad de bibliotecas de software de terceros inofensivas que pueden reutilizarse para uso malicioso."
   ]
  },
  {
   "cell_type": "markdown",
   "metadata": {},
   "source": [
    "###### Los 20 idiomas principales en orden descendente para enero de 2019 fueron\n",
    "![](https://zdnet4.cbsistatic.com/hub/i/2019/01/08/87e0bef8-de55-4833-85d8-f5055d04020b/tiobepythonjan19.jpg)"
   ]
  },
  {
   "cell_type": "markdown",
   "metadata": {},
   "source": [
    "![](https://upload.wikimedia.org/wikipedia/commons/thumb/c/c3/Python-logo-notext.svg/1200px-Python-logo-notext.svg.png)"
   ]
  },
  {
   "cell_type": "code",
   "execution_count": null,
   "metadata": {},
   "outputs": [],
   "source": []
  }
 ],
 "metadata": {
  "kernelspec": {
   "display_name": "Python 3",
   "language": "python",
   "name": "python3"
  },
  "language_info": {
   "codemirror_mode": {
    "name": "ipython",
    "version": 3
   },
   "file_extension": ".py",
   "mimetype": "text/x-python",
   "name": "python",
   "nbconvert_exporter": "python",
   "pygments_lexer": "ipython3",
   "version": "3.6.5"
  }
 },
 "nbformat": 4,
 "nbformat_minor": 2
}
